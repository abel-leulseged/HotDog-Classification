{
 "cells": [
  {
   "cell_type": "code",
   "execution_count": 1,
   "metadata": {
    "_cell_guid": "b1076dfc-b9ad-4769-8c92-a6c4dae69d19",
    "_uuid": "8f2839f25d086af736a60e9eeb907d3b93b6e0e5",
    "colab": {},
    "colab_type": "code",
    "id": "h4a5OdVy44VT"
   },
   "outputs": [
    {
     "name": "stderr",
     "output_type": "stream",
     "text": [
      "Using TensorFlow backend.\n"
     ]
    }
   ],
   "source": [
    "import numpy as np \n",
    "import pandas as pd \n",
    "import os\n",
    "import tensorflow as tf\n",
    "rand_state = 42\n",
    "tf.set_random_seed(rand_state)\n",
    "np.random.seed(rand_state)\n",
    "\n",
    "from skimage import exposure\n",
    "import cv2\n",
    "import glob\n",
    "import time\n",
    "import matplotlib.pyplot as plt\n",
    "from keras.utils.vis_utils import plot_model\n",
    "from sklearn.metrics import accuracy_score"
   ]
  },
  {
   "cell_type": "code",
   "execution_count": 2,
   "metadata": {},
   "outputs": [
    {
     "name": "stdout",
     "output_type": "stream",
     "text": [
      "Directory hot-dog-not-hot-dog exists.\n"
     ]
    }
   ],
   "source": [
    "%%bash\n",
    "if [ -d \"./hot-dog-not-hot-dog/\" ] \n",
    "then\n",
    "    echo \"Directory hot-dog-not-hot-dog exists.\" \n",
    "else\n",
    "    unzip -qq hot-dog-not-hot-dog.zip -d ./hot-dog-not-hot-dog/\n",
    "    echo \"hot-dog-not-hot-dog.zip unzipped!\"\n",
    "fi"
   ]
  },
  {
   "cell_type": "code",
   "execution_count": 3,
   "metadata": {
    "_kg_hide-input": false,
    "colab": {},
    "colab_type": "code",
    "id": "Z2dXuRaT44Va"
   },
   "outputs": [],
   "source": [
    "def rotateImage(img, angle):\n",
    "    (rows, cols, ch) = img.shape\n",
    "    M = cv2.getRotationMatrix2D((cols/2,rows/2), angle, 1)\n",
    "    return cv2.warpAffine(img, M, (cols,rows))\n",
    "    \n",
    "    \n",
    "def loadBlurImg(path, imgSize):\n",
    "    img = cv2.imread(path)\n",
    "    angle = np.random.randint(0, 360)\n",
    "    img = rotateImage(img, angle)\n",
    "    img = cv2.blur(img,(5,5))\n",
    "    img = cv2.resize(img, imgSize)\n",
    "    return img\n",
    "\n",
    "def loadImgClass(classPath, classLable, classSize, imgSize):\n",
    "    x = []\n",
    "    y = []\n",
    "    \n",
    "    for path in classPath:\n",
    "        img = loadBlurImg(path, imgSize)        \n",
    "        x.append(img)\n",
    "        y.append(classLable)\n",
    "        \n",
    "    while len(x) < classSize:\n",
    "        randIdx = np.random.randint(0, len(classPath))\n",
    "        img = loadBlurImg(classPath[randIdx], imgSize)\n",
    "        x.append(img)\n",
    "        y.append(classLable)\n",
    "        \n",
    "    return x, y\n",
    "\n",
    "def loadData(img_size, classSize, hotdogs, notHotdogs):    \n",
    "    imgSize = (img_size, img_size)\n",
    "    xHotdog, yHotdog = loadImgClass(hotdogs, 0, classSize, imgSize)\n",
    "    xNotHotdog, yNotHotdog = loadImgClass(notHotdogs, 1, classSize, imgSize)\n",
    "    print(\"There are\", len(xHotdog), \"hotdog images\")\n",
    "    print(\"There are\", len(xNotHotdog), \"not hotdog images\")\n",
    "    \n",
    "    X = np.array(xHotdog + xNotHotdog)\n",
    "    y = np.array(yHotdog + yNotHotdog)\n",
    "    \n",
    "    return X, y\n",
    "\n",
    "def toGray(images):\n",
    "    # rgb2gray converts RGB values to grayscale values by forming a weighted sum of the R, G, and B components:\n",
    "    # 0.2989 * R + 0.5870 * G + 0.1140 * B \n",
    "    # source: https://www.mathworks.com/help/matlab/ref/rgb2gray.html\n",
    "    \n",
    "    images = 0.2989*images[:,:,:,0] + 0.5870*images[:,:,:,1] + 0.1140*images[:,:,:,2]\n",
    "    return images\n",
    "\n",
    "def normalizeImages(images):\n",
    "    # use Histogram equalization to get a better range\n",
    "    # source http://scikit-image.org/docs/dev/api/skimage.exposure.html#skimage.exposure.equalize_hist\n",
    "    images = (images / 255.).astype(np.float32)\n",
    "    \n",
    "    for i in range(images.shape[0]):\n",
    "        images[i] = exposure.equalize_hist(images[i])\n",
    "    \n",
    "    images = images.reshape(images.shape + (1,)) \n",
    "    return images\n",
    "\n",
    "def preprocessData(images):\n",
    "    grayImages = toGray(images)\n",
    "    return normalizeImages(grayImages)"
   ]
  },
  {
   "cell_type": "code",
   "execution_count": 4,
   "metadata": {
    "colab": {
     "base_uri": "https://localhost:8080/",
     "height": 136
    },
    "colab_type": "code",
    "id": "eygByXbF44Ve",
    "outputId": "4ffe74b7-fb80-4084-fb06-9dee8e780250"
   },
   "outputs": [
    {
     "name": "stdout",
     "output_type": "stream",
     "text": [
      "There are 20000 hotdog images\n",
      "There are 20000 not hotdog images\n",
      "y shape (40000, 2)\n",
      "train shape X (32000, 32, 32, 1)\n",
      "train shape y (32000, 2)\n",
      "Test shape X: (8000, 32, 32, 1)\n",
      "Test shape y:  (8000, 2)\n"
     ]
    }
   ],
   "source": [
    "from keras.utils.np_utils import to_categorical\n",
    "from sklearn.model_selection import train_test_split\n",
    "\n",
    "size = 32\n",
    "classSize = 20000\n",
    "\n",
    "\n",
    "hotdogs = glob.glob('./hot-dog-not-hot-dog/train/hot_dog/**/*.jpg', recursive=True) + \\\n",
    "glob.glob('./hot-dog-not-hot-dog/test/hot_dog/**/*.jpg', recursive=True) \n",
    "\n",
    "notHotdogs = glob.glob('./train/not_hot_dog/**/*.jpg', recursive=True) + \\\n",
    "glob.glob('./hot-dog-not-hot-dog/test/not_hot_dog/**/*.jpg', recursive=True)\n",
    "\n",
    "scaled_X, y = loadData(size, classSize, hotdogs, notHotdogs)\n",
    "scaled_X = preprocessData(scaled_X)\n",
    "y = to_categorical(y)\n",
    "\n",
    "\n",
    "n_classes=2\n",
    "print(\"y shape\", y.shape)\n",
    "X_train, X_test, y_train, y_test = train_test_split(scaled_X, y, \n",
    "                                                    test_size=0.2, \n",
    "                                                    random_state=rand_state)\n",
    "\n",
    "print(\"train shape X\", X_train.shape)\n",
    "print(\"train shape y\", y_train.shape)\n",
    "print(\"Test shape X:\", X_test.shape)\n",
    "print(\"Test shape y: \", y_test.shape)\n",
    "\n",
    "inputShape = (size, size, 1)"
   ]
  },
  {
   "cell_type": "code",
   "execution_count": 5,
   "metadata": {
    "colab": {},
    "colab_type": "code",
    "id": "ocFsZ62I44Vh"
   },
   "outputs": [],
   "source": [
    "def plot_history(history):\n",
    "    loss_list = [s for s in history.history.keys() if 'loss' in s and 'val' not in s]\n",
    "    val_loss_list = [s for s in history.history.keys() if 'loss' in s and 'val' in s]\n",
    "    acc_list = [s for s in history.history.keys() if 'acc' in s and 'val' not in s]\n",
    "    val_acc_list = [s for s in history.history.keys() if 'acc' in s and 'val' in s]\n",
    "    \n",
    "    if len(loss_list) == 0:\n",
    "        print('Loss is missing in history')\n",
    "        return \n",
    "    \n",
    "    ## As loss always exists\n",
    "    epochs = range(1,len(history.history[loss_list[0]]) + 1)\n",
    "    \n",
    "    ## Loss\n",
    "    plt.figure(1)\n",
    "    for l in loss_list:\n",
    "        plt.plot(epochs, history.history[l], 'b', label='Training loss (' + str(str(format(history.history[l][-1],'.5f'))+')'))\n",
    "    for l in val_loss_list:\n",
    "        plt.plot(epochs, history.history[l], 'g', label='Validation loss (' + str(str(format(history.history[l][-1],'.5f'))+')'))\n",
    "    \n",
    "    plt.title('Loss')\n",
    "    plt.xlabel('Epochs')\n",
    "    plt.ylabel('Loss')\n",
    "    plt.legend()\n",
    "    \n",
    "    ## Accuracy\n",
    "    plt.figure(2)\n",
    "    for l in acc_list:\n",
    "        plt.plot(epochs, history.history[l], 'b', label='Training accuracy (' + str(format(history.history[l][-1],'.5f'))+')')\n",
    "    for l in val_acc_list:    \n",
    "        plt.plot(epochs, history.history[l], 'g', label='Validation accuracy (' + str(format(history.history[l][-1],'.5f'))+')')\n",
    "\n",
    "    plt.title('Accuracy')\n",
    "    plt.xlabel('Epochs')\n",
    "    plt.ylabel('Accuracy')\n",
    "    plt.legend()\n",
    "    plt.show()"
   ]
  },
  {
   "cell_type": "code",
   "execution_count": 6,
   "metadata": {
    "colab": {
     "base_uri": "https://localhost:8080/",
     "height": 1000
    },
    "colab_type": "code",
    "id": "ra_TnuNu44Vl",
    "outputId": "73a7b455-a7b0-4e60-e4f0-25267dbde47c"
   },
   "outputs": [
    {
     "name": "stdout",
     "output_type": "stream",
     "text": [
      "WARNING:tensorflow:From /home/abel/anaconda3/envs/projects/lib/python3.6/site-packages/tensorflow/python/framework/op_def_library.py:263: colocate_with (from tensorflow.python.framework.ops) is deprecated and will be removed in a future version.\n",
      "Instructions for updating:\n",
      "Colocations handled automatically by placer.\n",
      "WARNING:tensorflow:From /home/abel/anaconda3/envs/projects/lib/python3.6/site-packages/keras/backend/tensorflow_backend.py:3445: calling dropout (from tensorflow.python.ops.nn_ops) with keep_prob is deprecated and will be removed in a future version.\n",
      "Instructions for updating:\n",
      "Please use `rate` instead of `keep_prob`. Rate should be set to `rate = 1 - keep_prob`.\n",
      "_________________________________________________________________\n",
      "Layer (type)                 Output Shape              Param #   \n",
      "=================================================================\n",
      "conv2d_1 (Conv2D)            (None, 30, 30, 32)        320       \n",
      "_________________________________________________________________\n",
      "max_pooling2d_1 (MaxPooling2 (None, 15, 15, 32)        0         \n",
      "_________________________________________________________________\n",
      "dropout_1 (Dropout)          (None, 15, 15, 32)        0         \n",
      "_________________________________________________________________\n",
      "conv2d_2 (Conv2D)            (None, 13, 13, 64)        18496     \n",
      "_________________________________________________________________\n",
      "max_pooling2d_2 (MaxPooling2 (None, 6, 6, 64)          0         \n",
      "_________________________________________________________________\n",
      "dropout_2 (Dropout)          (None, 6, 6, 64)          0         \n",
      "_________________________________________________________________\n",
      "conv2d_3 (Conv2D)            (None, 4, 4, 128)         73856     \n",
      "_________________________________________________________________\n",
      "dropout_3 (Dropout)          (None, 4, 4, 128)         0         \n",
      "_________________________________________________________________\n",
      "flatten_1 (Flatten)          (None, 2048)              0         \n",
      "_________________________________________________________________\n",
      "dense_1 (Dense)              (None, 128)               262272    \n",
      "_________________________________________________________________\n",
      "dropout_4 (Dropout)          (None, 128)               0         \n",
      "_________________________________________________________________\n",
      "dense_2 (Dense)              (None, 2)                 258       \n",
      "=================================================================\n",
      "Total params: 355,202\n",
      "Trainable params: 355,202\n",
      "Non-trainable params: 0\n",
      "_________________________________________________________________\n"
     ]
    }
   ],
   "source": [
    "import keras\n",
    "from keras.models import Sequential\n",
    "from keras.callbacks import EarlyStopping, ModelCheckpoint\n",
    "from keras.layers import Conv2D, MaxPooling2D, Dense, Dropout, Flatten\n",
    "from keras.layers.normalization import BatchNormalization\n",
    "\n",
    "\n",
    "model = Sequential()\n",
    "model.add(Conv2D(32, kernel_size=(3, 3),\n",
    "                 activation='relu',\n",
    "                 kernel_initializer='he_normal',\n",
    "                 input_shape=inputShape))\n",
    "model.add(MaxPooling2D((2, 2)))\n",
    "model.add(Dropout(0.25))\n",
    "model.add(Conv2D(64, (3, 3), activation='relu'))\n",
    "model.add(MaxPooling2D(pool_size=(2, 2)))\n",
    "model.add(Dropout(0.25))\n",
    "model.add(Conv2D(128, (3, 3), activation='relu'))\n",
    "model.add(Dropout(0.4))\n",
    "model.add(Flatten())\n",
    "model.add(Dense(128, activation='relu'))\n",
    "model.add(Dropout(0.3))\n",
    "model.add(Dense(2, activation='softmax'))\n",
    "\n",
    "model.compile(loss=keras.losses.categorical_crossentropy,\n",
    "              optimizer=keras.optimizers.Adam(lr=1e-4),\n",
    "              metrics=['accuracy'])\n",
    "\n",
    "\n",
    "\n",
    "model.summary()\n"
   ]
  },
  {
   "cell_type": "code",
   "execution_count": 7,
   "metadata": {
    "colab": {
     "base_uri": "https://localhost:8080/",
     "height": 1000
    },
    "colab_type": "code",
    "id": "ra_TnuNu44Vl",
    "outputId": "73a7b455-a7b0-4e60-e4f0-25267dbde47c"
   },
   "outputs": [
    {
     "name": "stdout",
     "output_type": "stream",
     "text": [
      "WARNING:tensorflow:From /home/abel/anaconda3/envs/projects/lib/python3.6/site-packages/tensorflow/python/ops/math_ops.py:3066: to_int32 (from tensorflow.python.ops.math_ops) is deprecated and will be removed in a future version.\n",
      "Instructions for updating:\n",
      "Use tf.cast instead.\n",
      "Train on 32000 samples, validate on 8000 samples\n",
      "Epoch 1/50\n",
      "32000/32000 [==============================] - 6s 188us/step - loss: 0.7007 - acc: 0.5110 - val_loss: 0.6903 - val_acc: 0.5513\n",
      "Epoch 2/50\n",
      "32000/32000 [==============================] - 4s 133us/step - loss: 0.6892 - acc: 0.5398 - val_loss: 0.6839 - val_acc: 0.5483\n",
      "Epoch 3/50\n",
      "32000/32000 [==============================] - 4s 129us/step - loss: 0.6737 - acc: 0.5811 - val_loss: 0.6589 - val_acc: 0.6245\n",
      "Epoch 4/50\n",
      "32000/32000 [==============================] - 4s 129us/step - loss: 0.6544 - acc: 0.6134 - val_loss: 0.6433 - val_acc: 0.6286\n",
      "Epoch 5/50\n",
      "32000/32000 [==============================] - 4s 132us/step - loss: 0.6371 - acc: 0.6360 - val_loss: 0.6396 - val_acc: 0.6289\n",
      "Epoch 6/50\n",
      "32000/32000 [==============================] - 4s 132us/step - loss: 0.6215 - acc: 0.6520 - val_loss: 0.6096 - val_acc: 0.6669\n",
      "Epoch 7/50\n",
      "32000/32000 [==============================] - 4s 131us/step - loss: 0.6070 - acc: 0.6676 - val_loss: 0.6006 - val_acc: 0.6695\n",
      "Epoch 8/50\n",
      "32000/32000 [==============================] - 4s 130us/step - loss: 0.5957 - acc: 0.6741 - val_loss: 0.5811 - val_acc: 0.6811\n",
      "Epoch 9/50\n",
      "32000/32000 [==============================] - 4s 130us/step - loss: 0.5787 - acc: 0.6911 - val_loss: 0.5661 - val_acc: 0.6943\n",
      "Epoch 10/50\n",
      "32000/32000 [==============================] - 4s 128us/step - loss: 0.5622 - acc: 0.7040 - val_loss: 0.5372 - val_acc: 0.7177\n",
      "Epoch 11/50\n",
      "32000/32000 [==============================] - 4s 128us/step - loss: 0.5475 - acc: 0.7155 - val_loss: 0.5131 - val_acc: 0.7374\n",
      "Epoch 12/50\n",
      "32000/32000 [==============================] - 4s 129us/step - loss: 0.5294 - acc: 0.7304 - val_loss: 0.4876 - val_acc: 0.7592\n",
      "Epoch 13/50\n",
      "32000/32000 [==============================] - 4s 128us/step - loss: 0.5101 - acc: 0.7464 - val_loss: 0.4686 - val_acc: 0.7719\n",
      "Epoch 14/50\n",
      "32000/32000 [==============================] - 4s 132us/step - loss: 0.4947 - acc: 0.7565 - val_loss: 0.4581 - val_acc: 0.7765\n",
      "Epoch 15/50\n",
      "32000/32000 [==============================] - 4s 129us/step - loss: 0.4812 - acc: 0.7662 - val_loss: 0.4419 - val_acc: 0.7906\n",
      "Epoch 16/50\n",
      "32000/32000 [==============================] - 4s 129us/step - loss: 0.4719 - acc: 0.7716 - val_loss: 0.4315 - val_acc: 0.7976\n",
      "Epoch 17/50\n",
      "32000/32000 [==============================] - 4s 131us/step - loss: 0.4589 - acc: 0.7813 - val_loss: 0.4186 - val_acc: 0.8059\n",
      "Epoch 18/50\n",
      "32000/32000 [==============================] - 4s 131us/step - loss: 0.4454 - acc: 0.7863 - val_loss: 0.4053 - val_acc: 0.8165\n",
      "Epoch 19/50\n",
      "32000/32000 [==============================] - 4s 131us/step - loss: 0.4358 - acc: 0.7926 - val_loss: 0.3936 - val_acc: 0.8269\n",
      "Epoch 20/50\n",
      "32000/32000 [==============================] - 4s 127us/step - loss: 0.4261 - acc: 0.8021 - val_loss: 0.3819 - val_acc: 0.8316\n",
      "Epoch 21/50\n",
      "32000/32000 [==============================] - 4s 130us/step - loss: 0.4176 - acc: 0.8051 - val_loss: 0.3894 - val_acc: 0.8210\n",
      "Epoch 22/50\n",
      "32000/32000 [==============================] - 4s 129us/step - loss: 0.4056 - acc: 0.8114 - val_loss: 0.3620 - val_acc: 0.8461\n",
      "Epoch 23/50\n",
      "32000/32000 [==============================] - 4s 131us/step - loss: 0.4002 - acc: 0.8131 - val_loss: 0.3531 - val_acc: 0.8516\n",
      "Epoch 24/50\n",
      "32000/32000 [==============================] - 4s 129us/step - loss: 0.3880 - acc: 0.8230 - val_loss: 0.3423 - val_acc: 0.8558\n",
      "Epoch 25/50\n",
      "32000/32000 [==============================] - 4s 129us/step - loss: 0.3797 - acc: 0.8270 - val_loss: 0.3349 - val_acc: 0.8589\n",
      "Epoch 26/50\n",
      "32000/32000 [==============================] - 4s 131us/step - loss: 0.3726 - acc: 0.8314 - val_loss: 0.3251 - val_acc: 0.8681\n",
      "Epoch 27/50\n",
      "32000/32000 [==============================] - 4s 129us/step - loss: 0.3602 - acc: 0.8360 - val_loss: 0.3167 - val_acc: 0.8700\n",
      "Epoch 28/50\n",
      "32000/32000 [==============================] - 4s 131us/step - loss: 0.3529 - acc: 0.8412 - val_loss: 0.3050 - val_acc: 0.8734\n",
      "Epoch 29/50\n",
      "32000/32000 [==============================] - 4s 131us/step - loss: 0.3434 - acc: 0.8486 - val_loss: 0.3010 - val_acc: 0.8784\n",
      "Epoch 30/50\n",
      "32000/32000 [==============================] - 4s 129us/step - loss: 0.3397 - acc: 0.8479 - val_loss: 0.2929 - val_acc: 0.8792\n",
      "Epoch 31/50\n",
      "32000/32000 [==============================] - 4s 133us/step - loss: 0.3306 - acc: 0.8543 - val_loss: 0.2804 - val_acc: 0.8919\n",
      "Epoch 32/50\n",
      "32000/32000 [==============================] - 4s 131us/step - loss: 0.3228 - acc: 0.8589 - val_loss: 0.2754 - val_acc: 0.8932\n",
      "Epoch 33/50\n",
      "32000/32000 [==============================] - 4s 132us/step - loss: 0.3130 - acc: 0.8622 - val_loss: 0.2647 - val_acc: 0.8991\n",
      "Epoch 34/50\n",
      "32000/32000 [==============================] - 4s 133us/step - loss: 0.3092 - acc: 0.8661 - val_loss: 0.2565 - val_acc: 0.9041\n",
      "Epoch 35/50\n",
      "32000/32000 [==============================] - 4s 132us/step - loss: 0.3025 - acc: 0.8697 - val_loss: 0.2508 - val_acc: 0.9025\n",
      "Epoch 36/50\n",
      "32000/32000 [==============================] - 4s 136us/step - loss: 0.2933 - acc: 0.8733 - val_loss: 0.2441 - val_acc: 0.9062\n",
      "Epoch 37/50\n",
      "32000/32000 [==============================] - 4s 133us/step - loss: 0.2866 - acc: 0.8763 - val_loss: 0.2372 - val_acc: 0.9096\n",
      "Epoch 38/50\n",
      "32000/32000 [==============================] - 4s 130us/step - loss: 0.2823 - acc: 0.8815 - val_loss: 0.2252 - val_acc: 0.9211\n",
      "Epoch 39/50\n",
      "32000/32000 [==============================] - 4s 132us/step - loss: 0.2727 - acc: 0.8822 - val_loss: 0.2188 - val_acc: 0.9216\n",
      "Epoch 40/50\n",
      "32000/32000 [==============================] - 4s 132us/step - loss: 0.2680 - acc: 0.8847 - val_loss: 0.2083 - val_acc: 0.9226\n",
      "Epoch 41/50\n",
      "32000/32000 [==============================] - 4s 130us/step - loss: 0.2595 - acc: 0.8910 - val_loss: 0.2072 - val_acc: 0.9293\n",
      "Epoch 42/50\n",
      "32000/32000 [==============================] - 4s 132us/step - loss: 0.2564 - acc: 0.8934 - val_loss: 0.2008 - val_acc: 0.9270\n",
      "Epoch 43/50\n",
      "32000/32000 [==============================] - 4s 132us/step - loss: 0.2470 - acc: 0.8968 - val_loss: 0.1966 - val_acc: 0.9299\n",
      "Epoch 44/50\n",
      "32000/32000 [==============================] - 4s 131us/step - loss: 0.2460 - acc: 0.8969 - val_loss: 0.1880 - val_acc: 0.9350\n",
      "Epoch 45/50\n",
      "32000/32000 [==============================] - 4s 133us/step - loss: 0.2406 - acc: 0.9012 - val_loss: 0.1870 - val_acc: 0.9350\n",
      "Epoch 46/50\n",
      "32000/32000 [==============================] - 6s 198us/step - loss: 0.2306 - acc: 0.9044 - val_loss: 0.1725 - val_acc: 0.9435\n",
      "Epoch 47/50\n",
      "32000/32000 [==============================] - 7s 214us/step - loss: 0.2296 - acc: 0.9056 - val_loss: 0.1693 - val_acc: 0.9443\n",
      "Epoch 48/50\n",
      "32000/32000 [==============================] - 7s 213us/step - loss: 0.2223 - acc: 0.9083 - val_loss: 0.1679 - val_acc: 0.9447\n",
      "Epoch 49/50\n",
      "32000/32000 [==============================] - 7s 214us/step - loss: 0.2162 - acc: 0.9111 - val_loss: 0.1617 - val_acc: 0.9467\n",
      "Epoch 50/50\n",
      "32000/32000 [==============================] - 7s 217us/step - loss: 0.2134 - acc: 0.9140 - val_loss: 0.1571 - val_acc: 0.9487\n",
      "Execution time:  227.2533564567566\n"
     ]
    }
   ],
   "source": [
    "# Set callback functions to early stop training and save the best model so far\n",
    "callbacks = [EarlyStopping(monitor='val_loss', patience=3),\n",
    "             ModelCheckpoint(filepath='model.h5', monitor='val_acc', save_best_only=True)]\n",
    "\n",
    "start = time.time()\n",
    "history = model.fit(X_train, y_train,\n",
    "                      batch_size=64,\n",
    "                      epochs=50, \n",
    "                      callbacks=callbacks,\n",
    "                      verbose=1,\n",
    "                      validation_data=(X_test, y_test))\n",
    "\n",
    "end = time.time()\n",
    "print('Execution time: ', end-start)"
   ]
  },
  {
   "cell_type": "code",
   "execution_count": 8,
   "metadata": {
    "colab": {
     "base_uri": "https://localhost:8080/",
     "height": 1000
    },
    "colab_type": "code",
    "id": "ra_TnuNu44Vl",
    "outputId": "73a7b455-a7b0-4e60-e4f0-25267dbde47c"
   },
   "outputs": [
    {
     "data": {
      "image/png": "[encoded data removed]",
      "text/plain": [
       "<Figure size 432x288 with 1 Axes>"
      ]
     },
     "metadata": {
      "needs_background": "light"
     },
     "output_type": "display_data"
    },
    {
     "data": {
      "image/png": "[encoded data removed]",
      "text/plain": [
       "<Figure size 432x288 with 1 Axes>"
      ]
     },
     "metadata": {
      "needs_background": "light"
     },
     "output_type": "display_data"
    }
   ],
   "source": [
    "plot_history(history)"
   ]
  },
  {
   "cell_type": "code",
   "execution_count": 9,
   "metadata": {
    "colab": {
     "base_uri": "https://localhost:8080/",
     "height": 204
    },
    "colab_type": "code",
    "id": "wo0HdHIV44Vp",
    "outputId": "6f06e86d-c7ae-495f-9b7a-0f786017ce2a"
   },
   "outputs": [
    {
     "name": "stdout",
     "output_type": "stream",
     "text": [
      "There are 250 hotdog images\n",
      "There are 250 not hotdog images\n",
      "              precision    recall  f1-score   support\n",
      "\n",
      "      hotdog       0.98      0.91      0.94       250\n",
      "  not hotdog       0.91      0.98      0.95       250\n",
      "\n",
      "    accuracy                           0.94       500\n",
      "   macro avg       0.95      0.94      0.94       500\n",
      "weighted avg       0.95      0.94      0.94       500\n",
      "\n"
     ]
    }
   ],
   "source": [
    "hotdogs = glob.glob('./hot-dog-not-hot-dog/test/hot_dog/**/*.jpg', recursive=True) \n",
    "notHotdogs = glob.glob('./hot-dog-not-hot-dog/test/not_hot_dog/**/*.jpg', recursive=True)\n",
    "\n",
    "scaled_X_test, y_test = loadData(size, 250, hotdogs, notHotdogs)\n",
    "scaled_X_test = preprocessData(scaled_X_test)\n",
    "\n",
    "#get the predictions for the test data\n",
    "predicted_classes = model.predict_classes(scaled_X_test)\n",
    "\n",
    "# setup the true classes: just 250 hotdogs followed by 250 not hotdogs\n",
    "y_true = np.concatenate((np.zeros((250,)), np.ones((250,))))\n",
    "from sklearn.metrics import classification_report\n",
    "print(classification_report(y_true, predicted_classes, target_names=['hotdog', 'not hotdog']))"
   ]
  },
  {
   "cell_type": "code",
   "execution_count": 10,
   "metadata": {
    "colab": {
     "base_uri": "https://localhost:8080/",
     "height": 34
    },
    "colab_type": "code",
    "id": "iWe09ZJw9A5x",
    "outputId": "89edbdcd-aa70-4e35-f9f5-4172cb95c401"
   },
   "outputs": [
    {
     "data": {
      "text/plain": [
       "0.944"
      ]
     },
     "execution_count": 10,
     "metadata": {},
     "output_type": "execute_result"
    }
   ],
   "source": [
    "accuracy_score(y_true, predicted_classes)"
   ]
  },
  {
   "cell_type": "code",
   "execution_count": null,
   "metadata": {
    "colab": {},
    "colab_type": "code",
    "id": "jYgK4DO6-Wlu"
   },
   "outputs": [],
   "source": []
  }
 ],
 "metadata": {
  "accelerator": "GPU",
  "colab": {
   "collapsed_sections": [],
   "name": "Risky",
   "provenance": [],
   "toc_visible": true,
   "version": "0.3.2"
  },
  "kernelspec": {
   "display_name": "Python 3",
   "language": "python",
   "name": "python3"
  },
  "language_info": {
   "codemirror_mode": {
    "name": "ipython",
    "version": 3
   },
   "file_extension": ".py",
   "mimetype": "text/x-python",
   "name": "python",
   "nbconvert_exporter": "python",
   "pygments_lexer": "ipython3",
   "version": "3.6.8"
  }
 },
 "nbformat": 4,
 "nbformat_minor": 1
}
